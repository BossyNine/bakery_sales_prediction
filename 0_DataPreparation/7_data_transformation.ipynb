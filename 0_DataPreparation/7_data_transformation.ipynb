{
 "cells": [
  {
   "cell_type": "code",
   "execution_count": 1,
   "metadata": {},
   "outputs": [],
   "source": [
    "# import packages\n",
    "import pandas as pd\n",
    "import numpy as np\n",
    "import seaborn as sns\n",
    "import matplotlib.pyplot as plt\n",
    "import csv"
   ]
  },
  {
   "cell_type": "code",
   "execution_count": 2,
   "metadata": {},
   "outputs": [
    {
     "name": "stdout",
     "output_type": "stream",
     "text": [
      "        Datum  Bewoelkung  Temperatur  Windgeschwindigkeit  Wettercode  \\\n",
      "0  2013-07-01         6.0     17.8375                 15.0        20.0   \n",
      "1  2013-07-01         6.0     17.8375                 15.0        20.0   \n",
      "2  2013-07-01         6.0     17.8375                 15.0        20.0   \n",
      "3  2013-07-01         6.0     17.8375                 15.0        20.0   \n",
      "4  2013-07-01         6.0     17.8375                 15.0        20.0   \n",
      "\n",
      "   KielerWoche  Warengruppe      Umsatz  Feiertage  Ferientage  ...  month  \\\n",
      "0          0.0          1.0  148.828353        0.0         1.0  ...      7   \n",
      "1          0.0          2.0  535.856285        0.0         1.0  ...      7   \n",
      "2          0.0          3.0  201.198426        0.0         1.0  ...      7   \n",
      "3          0.0          4.0   65.890169        0.0         1.0  ...      7   \n",
      "4          0.0          5.0  317.475875        0.0         1.0  ...      7   \n",
      "\n",
      "   week  weekday  day_month  season_str  season  temp_7d_avg  \\\n",
      "0    27        0          1      summer       2      18.7625   \n",
      "1    27        0          1      summer       2      18.7625   \n",
      "2    27        0          1      summer       2      18.7625   \n",
      "3    27        0          1      summer       2      18.7625   \n",
      "4    27        0          1      summer       2      18.7625   \n",
      "\n",
      "  temp_diff_next_day  warmer_than_week_before  colder_than_week_before  \n",
      "0            -0.9250                   0.0000                    0.925  \n",
      "1            -0.9250                   0.0000                    0.925  \n",
      "2            -0.9250                   0.0000                    0.925  \n",
      "3            -0.9250                   0.0000                    0.925  \n",
      "4             2.3125                   2.3125                    0.000  \n",
      "\n",
      "[5 rows x 23 columns] \n",
      "\n"
     ]
    }
   ],
   "source": [
    "# load data: is \"6_weather_parameters\" the latest version until now?\n",
    "\n",
    "df = pd.read_csv(\"/workspaces/bakery_sales_prediction/sourcedata/cleaned_data/6_weather_parameters-2.csv\")\n",
    "print(df.head(), \"\\n\")"
   ]
  },
  {
   "cell_type": "code",
   "execution_count": 3,
   "metadata": {},
   "outputs": [
    {
     "name": "stdout",
     "output_type": "stream",
     "text": [
      "        Datum  Bewoelkung  Temperatur  Windgeschwindigkeit  KielerWoche  \\\n",
      "0  2013-07-01         6.0     17.8375                 15.0          0.0   \n",
      "1  2013-07-01         6.0     17.8375                 15.0          0.0   \n",
      "2  2013-07-01         6.0     17.8375                 15.0          0.0   \n",
      "3  2013-07-01         6.0     17.8375                 15.0          0.0   \n",
      "4  2013-07-01         6.0     17.8375                 15.0          0.0   \n",
      "\n",
      "   Warengruppe      Umsatz  Feiertage  Ferientage  Wetterklasse  Niederschlag  \\\n",
      "0          1.0  148.828353        0.0         1.0             6           0.3   \n",
      "1          2.0  535.856285        0.0         1.0             6           0.3   \n",
      "2          3.0  201.198426        0.0         1.0             6           0.3   \n",
      "3          4.0   65.890169        0.0         1.0             6           0.3   \n",
      "4          5.0  317.475875        0.0         1.0             6           0.3   \n",
      "\n",
      "   year  month  weekday  season  temp_diff_next_day  \n",
      "0  2013      7        0       2             -0.9250  \n",
      "1  2013      7        0       2             -0.9250  \n",
      "2  2013      7        0       2             -0.9250  \n",
      "3  2013      7        0       2             -0.9250  \n",
      "4  2013      7        0       2              2.3125  \n"
     ]
    }
   ],
   "source": [
    "# Drop the columns that we do not want as model input:\n",
    "columns_to_drop = ['Wettercode', 'week', 'day_month', 'season_str', 'temp_7d_avg', 'warmer_than_week_before', 'colder_than_week_before']\n",
    "cleaned_df = df.drop(columns=columns_to_drop)\n",
    "print(cleaned_df.head())"
   ]
  },
  {
   "cell_type": "code",
   "execution_count": null,
   "metadata": {},
   "outputs": [],
   "source": []
  },
  {
   "cell_type": "code",
   "execution_count": 4,
   "metadata": {},
   "outputs": [],
   "source": [
    "# Save the updated data to new CSV files\n",
    "cleaned_df.to_csv('../sourcedata/cleaned_data/7_transformed_variables-2.csv', sep=',', index=False)"
   ]
  },
  {
   "cell_type": "code",
   "execution_count": null,
   "metadata": {},
   "outputs": [],
   "source": []
  }
 ],
 "metadata": {
  "kernelspec": {
   "display_name": "Python 3",
   "language": "python",
   "name": "python3"
  },
  "language_info": {
   "codemirror_mode": {
    "name": "ipython",
    "version": 3
   },
   "file_extension": ".py",
   "mimetype": "text/x-python",
   "name": "python",
   "nbconvert_exporter": "python",
   "pygments_lexer": "ipython3",
   "version": "3.10.13"
  }
 },
 "nbformat": 4,
 "nbformat_minor": 2
}
