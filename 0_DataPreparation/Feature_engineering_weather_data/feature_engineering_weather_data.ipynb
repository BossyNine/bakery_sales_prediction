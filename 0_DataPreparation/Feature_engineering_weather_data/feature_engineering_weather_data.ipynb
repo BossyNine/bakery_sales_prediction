{
 "cells": [
  {
   "cell_type": "markdown",
   "metadata": {},
   "source": [
    "# Feature engineering for weather data"
   ]
  },
  {
   "cell_type": "code",
   "execution_count": 1,
   "metadata": {},
   "outputs": [],
   "source": [
    "# Read in packages\n",
    "import pandas as pd\n",
    "import numpy as np\n",
    "import seaborn as sns\n",
    "import matplotlib.pyplot as plt\n",
    "import csv"
   ]
  },
  {
   "cell_type": "code",
   "execution_count": 2,
   "metadata": {},
   "outputs": [
    {
     "name": "stdout",
     "output_type": "stream",
     "text": [
      "       Datum  Niederschlag\n",
      "0 1974-01-01           NaN\n",
      "1 1974-01-02           NaN\n",
      "2 1974-01-03           NaN\n",
      "3 1974-01-04           NaN\n",
      "4 1974-01-05           NaN\n",
      "          Datum  Bewoelkung  Temperatur  Windgeschwindigkeit  Wettercode  \\\n",
      "0    2012-01-01         8.0      9.8250                   14        58.0   \n",
      "1    2012-01-02         7.0      7.4375                   12         NaN   \n",
      "2    2012-01-03         8.0      5.5375                   18        63.0   \n",
      "3    2012-01-04         4.0      5.6875                   19        80.0   \n",
      "4    2012-01-05         6.0      5.3000                   23        80.0   \n",
      "...         ...         ...         ...                  ...         ...   \n",
      "2594 2019-07-28         3.0     23.3500                   14         5.0   \n",
      "2595 2019-07-29         6.0     25.2500                    7        61.0   \n",
      "2596 2019-07-30         7.0     20.7375                    8        61.0   \n",
      "2597 2019-07-31         6.0     20.4500                    7        61.0   \n",
      "2598 2019-08-01         5.0     21.0625                    9        61.0   \n",
      "\n",
      "      Niederschlag  \n",
      "0             14.0  \n",
      "1              0.0  \n",
      "2             20.8  \n",
      "3             19.7  \n",
      "4              3.3  \n",
      "...            ...  \n",
      "2594           0.3  \n",
      "2595           2.1  \n",
      "2596           4.2  \n",
      "2597           9.9  \n",
      "2598           0.1  \n",
      "\n",
      "[2599 rows x 6 columns]\n"
     ]
    }
   ],
   "source": [
    "# read in weather data\n",
    "weather = pd.read_csv(\"/workspaces/bakery_sales_prediction/sourcedata/wetter.csv\")\n",
    "weather[\"Datum\"] = pd.to_datetime(weather[\"Datum\"])\n",
    "\n",
    "# Define the path to additional weather data from DWD\n",
    "file_path = \"/workspaces/bakery_sales_prediction/sourcedata/produkt_klima_tag_19740101_20231231_02564.txt\"\n",
    "\n",
    "# Read the file into a DataFrame, parse dates, and treat -999 as NaN\n",
    "prec = pd.read_csv(file_path, sep=';', na_values='-999', parse_dates=['MESS_DATUM'])\n",
    "\n",
    "# Rename the MESS_DATUM column to Datum\n",
    "prec.rename(columns={'MESS_DATUM': 'Datum'}, inplace=True)\n",
    "prec.rename(columns={\" RSK\": \"Niederschlag\"}, inplace = True)\n",
    "# prec.rename(columns={\"  FM\": \"Windgeschwindigkeit_m-per-s\"}, inplace = True)\n",
    "\n",
    "# Select relevant columns\n",
    "prec = prec[[\"Datum\", \"Niederschlag\"]]\n",
    "\n",
    "# Display the first few rows of the DataFrame\n",
    "print(prec.head())\n",
    "\n",
    "# Merge both datasets on the Datum column\n",
    "weather_data = pd.merge(weather, prec, on='Datum', how='inner')\n",
    "\n",
    "# Display the merged DataFrame\n",
    "print(weather_data)"
   ]
  },
  {
   "cell_type": "code",
   "execution_count": 3,
   "metadata": {},
   "outputs": [
    {
     "name": "stdout",
     "output_type": "stream",
     "text": [
      "       Datum  Bewoelkung  Temperatur  Windgeschwindigkeit  Wettercode  \\\n",
      "0 2012-01-01         8.0      9.8250                   14        58.0   \n",
      "1 2012-01-02         7.0      7.4375                   12         NaN   \n",
      "2 2012-01-03         8.0      5.5375                   18        63.0   \n",
      "3 2012-01-04         4.0      5.6875                   19        80.0   \n",
      "4 2012-01-05         6.0      5.3000                   23        80.0   \n",
      "\n",
      "   Niederschlag  year  month  week  day_of_week  day_of_month  \n",
      "0          14.0  2012      1    52            6             1  \n",
      "1           0.0  2012      1     1            0             2  \n",
      "2          20.8  2012      1     1            1             3  \n",
      "3          19.7  2012      1     1            2             4  \n",
      "4           3.3  2012      1     1            3             5  \n"
     ]
    }
   ],
   "source": [
    "# extract date features\n",
    "weather_data['year'] = weather_data['Datum'].dt.year\n",
    "weather_data['month'] = weather_data['Datum'].dt.month\n",
    "weather_data['week'] = weather_data['Datum'].dt.isocalendar().week\n",
    "weather_data['day_of_week'] = weather_data['Datum'].dt.dayofweek\n",
    "weather_data['day_of_month'] = weather_data['Datum'].dt.day\n",
    "print(weather_data.head())\n"
   ]
  },
  {
   "cell_type": "code",
   "execution_count": 4,
   "metadata": {},
   "outputs": [
    {
     "name": "stdout",
     "output_type": "stream",
     "text": [
      "       Datum  Bewoelkung  Temperatur  Windgeschwindigkeit  Wettercode  \\\n",
      "0 2012-01-01         8.0      9.8250                   14        58.0   \n",
      "1 2012-01-02         7.0      7.4375                   12         NaN   \n",
      "2 2012-01-03         8.0      5.5375                   18        63.0   \n",
      "3 2012-01-04         4.0      5.6875                   19        80.0   \n",
      "4 2012-01-05         6.0      5.3000                   23        80.0   \n",
      "\n",
      "   Niederschlag  year  month  week  day_of_week  day_of_month  season  winter  \\\n",
      "0          14.0  2012      1    52            6             1  winter       1   \n",
      "1           0.0  2012      1     1            0             2  winter       1   \n",
      "2          20.8  2012      1     1            1             3  winter       1   \n",
      "3          19.7  2012      1     1            2             4  winter       1   \n",
      "4           3.3  2012      1     1            3             5  winter       1   \n",
      "\n",
      "   spring  summer  autumn  \n",
      "0       0       0       0  \n",
      "1       0       0       0  \n",
      "2       0       0       0  \n",
      "3       0       0       0  \n",
      "4       0       0       0  \n"
     ]
    }
   ],
   "source": [
    "# define the season\n",
    "def get_season(month):\n",
    "\t    if month in [12, 1, 2]:\n",
    "\t        return 'winter'\n",
    "\t    elif month in [3, 4, 5]:\n",
    "\t        return 'spring'\n",
    "\t    elif month in [6, 7, 8]:\n",
    "\t        return 'summer'\n",
    "\t    else:\n",
    "\t        return 'autumn'\n",
    "\t\n",
    "weather_data['season'] = weather_data['month'].apply(get_season)\n",
    "\n",
    "# Create binary features for seasons\n",
    "# probably to generic for predictions?\n",
    "weather_data['winter'] = (weather_data['season'] == 'winter').astype(int)\n",
    "weather_data['spring'] = (weather_data['season'] == 'spring').astype(int)\n",
    "weather_data['summer'] = (weather_data['season'] == 'summer').astype(int)\n",
    "weather_data['autumn'] = (weather_data['season'] == 'autumn').astype(int)\n",
    "\n",
    "print(weather_data.head())\n"
   ]
  },
  {
   "cell_type": "code",
   "execution_count": 98,
   "metadata": {},
   "outputs": [],
   "source": [
    "# check what exactly this means and does! (Suggestion by ChatGPT)\n",
    "# Create rolling averages for temperature, precipitation and and wind speed\n",
    "# weather_data['temp_7d_avg'] = weather_data['Temperatur'].rolling(window=7).mean()\n",
    "# weather_data['wind_7d_avg'] = weather_data['Windgeschwindigkeit'].rolling(window=7).mean()\n",
    "# weather_data['prec_7d_avg'] = weather_data['Niederschlag'].rolling(window=7).mean()\n",
    "\n",
    "# Create lag features\n",
    "# weather_data['temp_lag_1'] = weather_data['Temperatur'].shift(1)\n",
    "# weather_data['wind_lag_1'] = weather_data['Windgeschwindigkeit'].shift(1)\n",
    "# weather_data['prec_lag_1'] = weather_data['Niederschlag'].shift(1)\n",
    "\n",
    "# Fill NA values created by rolling and lag features\n",
    "# weather_data.fillna(method='bfill', inplace=True)\n",
    "\n",
    "# Normalize the weather features\n",
    "# from sklearn.preprocessing import StandardScaler\n",
    "\n",
    "# weather_features = ['Temperatur', 'Windgeschwindigkeit', 'Niederschlag', 'temp_7d_avg', 'wind_7d_avg', 'temp_lag_1', 'wind_lag_1', 'prec_7d_avg', 'prec_lag_1']\n",
    "# scaler = StandardScaler()\n",
    "# weather_data[weather_features] = scaler.fit_transform(weather_data[weather_features])\n",
    "# print(weather_data.head())\n"
   ]
  },
  {
   "cell_type": "code",
   "execution_count": null,
   "metadata": {},
   "outputs": [],
   "source": [
    "# Open ToDos:\n",
    "# Create categories for temperature depending on season\n",
    "# or calculate the deviation from monthly temperature\n",
    "# or define warm / cold day depending on the season (e.g. in winter 10°C is a warm day, in summer that would be a cold day)"
   ]
  },
  {
   "cell_type": "code",
   "execution_count": 5,
   "metadata": {},
   "outputs": [
    {
     "name": "stdout",
     "output_type": "stream",
     "text": [
      "          Datum  Bewoelkung  Temperatur  Windgeschwindigkeit  Wettercode  \\\n",
      "0    2012-01-01         8.0      9.8250                   14        58.0   \n",
      "1    2012-01-02         7.0      7.4375                   12         NaN   \n",
      "2    2012-01-03         8.0      5.5375                   18        63.0   \n",
      "3    2012-01-04         4.0      5.6875                   19        80.0   \n",
      "4    2012-01-05         6.0      5.3000                   23        80.0   \n",
      "...         ...         ...         ...                  ...         ...   \n",
      "2594 2019-07-28         3.0     23.3500                   14         5.0   \n",
      "2595 2019-07-29         6.0     25.2500                    7        61.0   \n",
      "2596 2019-07-30         7.0     20.7375                    8        61.0   \n",
      "2597 2019-07-31         6.0     20.4500                    7        61.0   \n",
      "2598 2019-08-01         5.0     21.0625                    9        61.0   \n",
      "\n",
      "      Niederschlag  year  month  week  day_of_week  ...  season winter  \\\n",
      "0             14.0  2012      1    52            6  ...  winter      1   \n",
      "1              0.0  2012      1     1            0  ...  winter      1   \n",
      "2             20.8  2012      1     1            1  ...  winter      1   \n",
      "3             19.7  2012      1     1            2  ...  winter      1   \n",
      "4              3.3  2012      1     1            3  ...  winter      1   \n",
      "...            ...   ...    ...   ...          ...  ...     ...    ...   \n",
      "2594           0.3  2019      7    30            6  ...  summer      0   \n",
      "2595           2.1  2019      7    31            0  ...  summer      0   \n",
      "2596           4.2  2019      7    31            1  ...  summer      0   \n",
      "2597           9.9  2019      7    31            2  ...  summer      0   \n",
      "2598           0.1  2019      8    31            3  ...  summer      0   \n",
      "\n",
      "      spring  summer  autumn  very_hot  very_cold  very_rainy  high_wind  \\\n",
      "0          0       0       0         0          0           1          0   \n",
      "1          0       0       0         0          0           0          0   \n",
      "2          0       0       0         0          0           1          1   \n",
      "3          0       0       0         0          0           1          1   \n",
      "4          0       0       0         0          0           0          1   \n",
      "...      ...     ...     ...       ...        ...         ...        ...   \n",
      "2594       0       1       0         0          0           0          0   \n",
      "2595       0       1       0         1          0           0          0   \n",
      "2596       0       1       0         0          0           0          0   \n",
      "2597       0       1       0         0          0           0          0   \n",
      "2598       0       1       0         0          0           0          0   \n",
      "\n",
      "      sunny_days  \n",
      "0              0  \n",
      "1              0  \n",
      "2              0  \n",
      "3              0  \n",
      "4              0  \n",
      "...          ...  \n",
      "2594           0  \n",
      "2595           0  \n",
      "2596           0  \n",
      "2597           0  \n",
      "2598           0  \n",
      "\n",
      "[2599 rows x 21 columns]\n"
     ]
    }
   ],
   "source": [
    "# Define thresholds for extreme weather conditions\n",
    "VERY_HOT_THRESHOLD = 25  # Example: temperature > 25 degrees Celsius\n",
    "VERY_COLD_THRESHOLD = 0  # Example: temperature < 0 degrees Celsius\n",
    "VERY_RAINY_THRESHOLD = 10 # Example: precipitation > 10 mm\n",
    "HIGH_WIND_THRESHOLD = 15  # Example: wind speed > 15 m/s\n",
    "SUNNY_DAY_THRESHOLD = 2  # Example: cloudiness <= 2 - how is the parameter defined?\n",
    "\n",
    "# Create binary features for extreme weather conditions\n",
    "weather_data['very_hot'] = (weather_data['Temperatur'] > VERY_HOT_THRESHOLD).astype(int)\n",
    "weather_data['very_cold'] = (weather_data['Temperatur'] < VERY_COLD_THRESHOLD).astype(int)\n",
    "weather_data['very_rainy'] =  (weather_data['Niederschlag'] > VERY_RAINY_THRESHOLD).astype(int)\n",
    "weather_data['high_wind'] = (weather_data['Windgeschwindigkeit'] > HIGH_WIND_THRESHOLD).astype(int)\n",
    "weather_data['sunny_days'] = (weather_data['Bewoelkung'] <= SUNNY_DAY_THRESHOLD).astype(int)\n",
    "\n",
    "# Display the first few rows to check all features\n",
    "print(weather_data)\n"
   ]
  },
  {
   "cell_type": "code",
   "execution_count": 6,
   "metadata": {},
   "outputs": [
    {
     "name": "stdout",
     "output_type": "stream",
     "text": [
      "       Datum  Bewoelkung  Temperatur  Windgeschwindigkeit  Wettercode  \\\n",
      "0 2012-01-01         8.0      9.8250                   14        58.0   \n",
      "1 2012-01-02         7.0      7.4375                   12         NaN   \n",
      "2 2012-01-03         8.0      5.5375                   18        63.0   \n",
      "3 2012-01-04         4.0      5.6875                   19        80.0   \n",
      "4 2012-01-05         6.0      5.3000                   23        80.0   \n",
      "\n",
      "   Niederschlag  year  month  week  day_of_week  ...  spring summer  autumn  \\\n",
      "0          14.0  2012      1    52            6  ...       0      0       0   \n",
      "1           0.0  2012      1     1            0  ...       0      0       0   \n",
      "2          20.8  2012      1     1            1  ...       0      0       0   \n",
      "3          19.7  2012      1     1            2  ...       0      0       0   \n",
      "4           3.3  2012      1     1            3  ...       0      0       0   \n",
      "\n",
      "   very_hot  very_cold  very_rainy  high_wind  sunny_days  \\\n",
      "0         0          0           1          0           0   \n",
      "1         0          0           0          0           0   \n",
      "2         0          0           1          1           0   \n",
      "3         0          0           1          1           0   \n",
      "4         0          0           0          1           0   \n",
      "\n",
      "   Windgeschwindigkeit_km_h  feels_like_temperature  \n",
      "0                      50.4                5.231508  \n",
      "1                      43.2                2.359348  \n",
      "2                      64.8               -1.320966  \n",
      "3                      68.4               -1.266175  \n",
      "4                      82.8               -2.374746  \n",
      "\n",
      "[5 rows x 23 columns]\n"
     ]
    }
   ],
   "source": [
    "# Calculate \"feels like\" temperature\n",
    "weather_data[\"Windgeschwindigkeit_km_h\"] = weather_data[\"Windgeschwindigkeit\"] * 3.6\n",
    "weather_data[\"feels_like_temperature\"] = 13.12 + 0.6215 * weather_data[\"Temperatur\"] - 11.37 * weather_data[\"Windgeschwindigkeit_km_h\"]**0.16 + 0.3965*weather_data[\"Temperatur\"]*weather_data[\"Windgeschwindigkeit_km_h\"]**0.16\n",
    "print(weather_data.head())\n",
    "\n",
    "# export file again\n",
    "# weather_data.to_csv(\"Files/weather_data.csv\", index = False)\n"
   ]
  }
 ],
 "metadata": {
  "kernelspec": {
   "display_name": "Python 3",
   "language": "python",
   "name": "python3"
  },
  "language_info": {
   "codemirror_mode": {
    "name": "ipython",
    "version": 3
   },
   "file_extension": ".py",
   "mimetype": "text/x-python",
   "name": "python",
   "nbconvert_exporter": "python",
   "pygments_lexer": "ipython3",
   "version": "3.10.13"
  }
 },
 "nbformat": 4,
 "nbformat_minor": 2
}
