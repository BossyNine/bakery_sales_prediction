{
 "cells": [
  {
   "cell_type": "code",
   "execution_count": 5,
   "metadata": {},
   "outputs": [
    {
     "name": "stdout",
     "output_type": "stream",
     "text": [
      "                            OLS Regression Results                            \n",
      "==============================================================================\n",
      "Dep. Variable:                 Umsatz   R-squared:                       0.053\n",
      "Model:                            OLS   Adj. R-squared:                  0.050\n",
      "Method:                 Least Squares   F-statistic:                     17.08\n",
      "Date:                Thu, 23 May 2024   Prob (F-statistic):           6.23e-67\n",
      "Time:                        15:19:50   Log-Likelihood:                -44414.\n",
      "No. Observations:                7009   AIC:                         8.888e+04\n",
      "Df Residuals:                    6985   BIC:                         8.904e+04\n",
      "Df Model:                          23                                         \n",
      "Covariance Type:            nonrobust                                         \n",
      "=========================================================================================\n",
      "                            coef    std err          t      P>|t|      [0.025      0.975]\n",
      "-----------------------------------------------------------------------------------------\n",
      "Intercept               140.6472      6.124     22.965      0.000     128.642     152.653\n",
      "C(Wettercode)[T.3.0]     -4.0731     61.429     -0.066      0.947    -124.492     116.346\n",
      "C(Wettercode)[T.5.0]      8.4217      7.509      1.122      0.262      -6.299      23.142\n",
      "C(Wettercode)[T.10.0]     8.3978      7.269      1.155      0.248      -5.851      22.647\n",
      "C(Wettercode)[T.17.0]   -72.8101     61.489     -1.184      0.236    -193.347      47.727\n",
      "C(Wettercode)[T.20.0]     9.1561     10.028      0.913      0.361     -10.501      28.814\n",
      "C(Wettercode)[T.21.0]     7.7815      6.444      1.208      0.227      -4.850      20.413\n",
      "C(Wettercode)[T.22.0]    24.1879     15.769      1.534      0.125      -6.724      55.100\n",
      "C(Wettercode)[T.28.0]    36.9677     18.028      2.051      0.040       1.628      72.307\n",
      "C(Wettercode)[T.45.0]    -6.5302     14.955     -0.437      0.662     -35.846      22.786\n",
      "C(Wettercode)[T.49.0]    30.0682     20.704      1.452      0.146     -10.519      70.655\n",
      "C(Wettercode)[T.53.0]   -23.1111     25.062     -0.922      0.356     -72.240      26.017\n",
      "C(Wettercode)[T.61.0]     6.1333      5.657      1.084      0.278      -4.957      17.223\n",
      "C(Wettercode)[T.63.0]     8.1568      7.646      1.067      0.286      -6.831      23.145\n",
      "C(Wettercode)[T.65.0]     9.3077     13.863      0.671      0.502     -17.867      36.482\n",
      "C(Wettercode)[T.68.0]   -20.8653     39.932     -0.523      0.601     -99.144      57.414\n",
      "C(Wettercode)[T.69.0]    -6.5991     26.943     -0.245      0.807     -59.415      46.217\n",
      "C(Wettercode)[T.71.0]    36.2000     16.412      2.206      0.027       4.028      68.372\n",
      "C(Wettercode)[T.73.0]     7.5195     20.657      0.364      0.716     -32.974      48.013\n",
      "C(Wettercode)[T.75.0]    48.2309     28.007      1.722      0.085      -6.672     103.134\n",
      "C(Wettercode)[T.77.0]    29.7924     21.403      1.392      0.164     -12.163      71.748\n",
      "C(Wettercode)[T.79.0]    14.8670     61.489      0.242      0.809    -105.670     135.404\n",
      "C(Wettercode)[T.95.0]    15.5095     12.702      1.221      0.222      -9.389      40.408\n",
      "Temperatur                4.8729      0.282     17.307      0.000       4.321       5.425\n",
      "==============================================================================\n",
      "Omnibus:                     3306.542   Durbin-Watson:                   2.483\n",
      "Prob(Omnibus):                  0.000   Jarque-Bera (JB):            41144.320\n",
      "Skew:                           1.937   Prob(JB):                         0.00\n",
      "Kurtosis:                      14.219   Cond. No.                         483.\n",
      "==============================================================================\n",
      "\n",
      "Notes:\n",
      "[1] Standard Errors assume that the covariance matrix of the errors is correctly specified.\n"
     ]
    }
   ],
   "source": [
    "import pandas as pd\n",
    "import statsmodels.formula.api as smf\n",
    "\n",
    "# Load the dataset\n",
    "url = \"../sourcedata/cleaned_data/5_has_wettercode.csv\"\n",
    "house_pricing = pd.read_csv(url)\n",
    "\n",
    "# Fit the linear model\n",
    "mod = smf.ols('Umsatz ~ Temperatur + C(Wettercode)', data=house_pricing).fit()\n",
    "\n",
    "# Print the summary\n",
    "print(mod.summary())"
   ]
  },
  {
   "cell_type": "code",
   "execution_count": null,
   "metadata": {},
   "outputs": [],
   "source": []
  }
 ],
 "metadata": {
  "kernelspec": {
   "display_name": "Python 3",
   "language": "python",
   "name": "python3"
  },
  "language_info": {
   "codemirror_mode": {
    "name": "ipython",
    "version": 3
   },
   "file_extension": ".py",
   "mimetype": "text/x-python",
   "name": "python",
   "nbconvert_exporter": "python",
   "pygments_lexer": "ipython3",
   "version": "3.10.13"
  }
 },
 "nbformat": 4,
 "nbformat_minor": 2
}
