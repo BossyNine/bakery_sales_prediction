{
 "cells": [
  {
   "cell_type": "markdown",
   "metadata": {},
   "source": [
    "Anmerkung: \n",
    "habe den Code gerade zusammenkopiert (27.05.) und mache jetzt Pause, sortiere dann morgen alles um das mit der linearen regression nochmal auszuprobieren!"
   ]
  },
  {
   "cell_type": "code",
   "execution_count": null,
   "metadata": {},
   "outputs": [],
   "source": [
    "# import packages\n",
    "import pandas as pd\n",
    "import numpy as np\n",
    "import seaborn as sns\n",
    "import matplotlib.pyplot as plt\n",
    "import csv"
   ]
  },
  {
   "cell_type": "code",
   "execution_count": null,
   "metadata": {},
   "outputs": [],
   "source": [
    "# load data: is \"5_has_wettercode\" the latest version?\n",
    "\n",
    "wetter = pd.read_csv(\"/workspaces/bakery_sales_prediction/sourcedata/cleaned_data/5_has_wettercode.csv\")\n",
    "print(wetter.head(), \"\\n\")"
   ]
  },
  {
   "cell_type": "markdown",
   "metadata": {},
   "source": [
    "## 1. Wettercodes:"
   ]
  },
  {
   "cell_type": "markdown",
   "metadata": {},
   "source": [
    "### Wetterdcodes decodieren und in neue Klassen einteilen"
   ]
  },
  {
   "cell_type": "code",
   "execution_count": null,
   "metadata": {},
   "outputs": [],
   "source": [
    "# Print the frequency of each value of the weather codes (which ones occure?)\n",
    "value_counts = wetter['Wettercode'].value_counts().sort_index()\n",
    "print(value_counts)"
   ]
  },
  {
   "cell_type": "code",
   "execution_count": null,
   "metadata": {},
   "outputs": [],
   "source": [
    "# Dictionary with weather codes and their descriptions from http://www.seewetter-kiel.de/seewetter/daten_symbole.htm\n",
    "weather_code_descriptions = {\n",
    "    0: \"Bewoelkungsentwicklung nicht beobachtet\",\n",
    "    3: \"Zunehmende Bewoelkung\",\n",
    "    5: \"Trockener Dunst\",\n",
    "    10: \"Feuchter Dunst\",\n",
    "    17: \"Gewitter mit hoerbarem Donner, aber kein Niederschlag an der Station\",\n",
    "    20: \"Spruehregen oder Schneegriesel hat aufgehoert\",\n",
    "    21: \"Regen hat aufgehoert\",\n",
    "    22: \"Schneefall hat aufgehoert\",\n",
    "    28: \"Nebel hat sich aufgeloest\",\n",
    "    45: \"Nebel, Himmel ist nicht erkennbar, Nebel unveraendert\",\n",
    "    49: \"Nebel mit Reifbildung, Himmel ist nicht erkennbar\",\n",
    "    53: \"Durchgehender maeßiger und nicht gefrierender Spruehregen\",\n",
    "    61: \"Durchgehender leichter und nicht gefrierender Regen\",\n",
    "    63: \"Durchgehender maeßiger nicht gefrierender Regen\",\n",
    "    65: \"Durchgehender starker und nicht gefrierender Regen\",\n",
    "    68: \"Leichter Schneeregen\",\n",
    "    69: \"Maeßiger oder starker Schneeregen\",\n",
    "    71: \"Durchgehender leichter Schneefall\",\n",
    "    73: \"Durchgehender maeßiger Schneefall\",\n",
    "    75: \"Durchgehender starker Schneefall\",\n",
    "    77: \"Schneegrieseln mit oder ohne Nebel\",\n",
    "    79: \"Eiskoerner (gefrorene Regentropfen)\",\n",
    "    95: \"Leichtes oder maeßiges Gewitter mit Regen oder Schnee\"\n",
    "}\n",
    "\n",
    "# Function to get the description of a weather code\n",
    "def get_weather_description(code):\n",
    "    return weather_code_descriptions.get(code, \"Description not available\")\n",
    "\n",
    "get_weather_description(53)"
   ]
  },
  {
   "cell_type": "code",
   "execution_count": null,
   "metadata": {},
   "outputs": [],
   "source": [
    "# new classes for weathercodes in a dictionary:\n",
    "new_weather_code_descriptions = {\n",
    "    0 : \"nicht_beobachtet\",\n",
    "    1 : \"Wolken\",\n",
    "    2 : \"Dunst_oder_Nebel\",\n",
    "    3 : \"sich_ankuendigender_Regen\",\n",
    "    4 : \"Gewitter\",\n",
    "    5 : \"Boeen_und_Sturm\",\n",
    "    6 : \"Niederschlag_nass_leicht\", # Regen # leicht # inkl. 'Niederschlag hat aufgehört', weil es ja nicht den ganzen Tag lang 'aufgehört' haben kann, sondern dann vermutlich vorher geregnet hat\n",
    "    7 : \"Niederschlag_nass_stark\", # mäßiger oder starker Regen\n",
    "    8 : \"Niederschlag_trocken\", # Schnee; leichtes oder mäßiges Schneetreiben\n",
    "    9 : \"Schneesturm_Hagel\", # starkes Schneefegen\n",
    "    10 : \"Sandsturm\"\n",
    "}"
   ]
  },
  {
   "cell_type": "code",
   "execution_count": null,
   "metadata": {},
   "outputs": [],
   "source": [
    "# Define lists of codes for each weather class\n",
    "nicht_beobachtet =  [0] # 0\n",
    "Wolken = [1, 2, 3] # 1\n",
    "Dunst_oder_Nebel = [4, 5, 6, 7, 8, 9, 10, 11, 12, 28, 40, 41, 42, 43, 44, 45, 46, 47, 48, 49] # 2\n",
    "sich_ankuendigender_Regen = [14, 15, 16] # 3\n",
    "Gewitter = [13, 17, 29, 91, 92, 93, 94, 95, 96, 97, 98, 99] # 4\n",
    "Boeen_und_Sturm = [18, 19] # 5\n",
    "Niederschlag_nass_leicht = [20, 21, 23, 24, 25, 27, 50, 51, 56, 58, 60, 61, 66, 68, 80, 83, 87] # 6\n",
    "Niederschlag_nass_stark = [52, 53, 54, 55, 57, 59, 62, 63, 64, 65, 67, 69, 81, 82, 84, 88] # 7\n",
    "Niederschlag_trocken = [22, 26, 36, 38, 70, 72, 73, 74, 75, 77, 78, 85, 86] # 8\n",
    "Schneesturm_Hagel = [37, 39, 76, 79, 89, 90] # 9\n",
    "Sandsturm = [30, 31, 32, 33, 34, 35] # 10\n"
   ]
  },
  {
   "cell_type": "code",
   "execution_count": null,
   "metadata": {},
   "outputs": [],
   "source": [
    "# Create a combined dictionary for mapping original codes to new numeric codes\n",
    "weather_code_mapping = {}\n",
    "\n",
    "# Combine the lists and dictionary\n",
    "weather_classes = {\n",
    "    \"nicht_beobachtet\" : nicht_beobachtet,\n",
    "    \"Wolken\" : Wolken,\n",
    "    \"Dunst_oder_Nebel\" : Dunst_oder_Nebel,\n",
    "    \"sich_ankuendigender_Regen\" : sich_ankuendigender_Regen,\n",
    "    \"Gewitter\" : Gewitter,\n",
    "    \"Boeen_und_Sturm\" : Boeen_und_Sturm,\n",
    "    \"Niederschlag_nass_leicht\" : Niederschlag_nass_leicht,\n",
    "    \"Niederschlag_nass_stark\" : Niederschlag_nass_stark,\n",
    "    \"Niederschlag_trocken\" : Niederschlag_trocken,\n",
    "    \"Schneesturm_Hagel\" : Schneesturm_Hagel,\n",
    "    \"Sandsturm\" : Sandsturm\n",
    "}\n",
    "\n",
    "# Iterate over the new_weather_code_descriptions to build the mapping dictionary\n",
    "for new_code, description in new_weather_code_descriptions.items():\n",
    "    if description in weather_classes:\n",
    "        for code in weather_classes[description]:\n",
    "            weather_code_mapping[code] = new_code\n",
    "\n",
    "# Map the weather codes to the new numeric codes\n",
    "wetter['Wetterklasse'] = wetter['Wettercode'].map(weather_code_mapping)\n",
    "\n",
    "# Replace NaN values with -9999 for codes not in the mapping\n",
    "wetter['Wetterklasse'] = wetter['Wetterklasse'].fillna(-9999)\n",
    "\n",
    "# Print the updated DataFrame\n",
    "print(wetter)"
   ]
  },
  {
   "cell_type": "code",
   "execution_count": null,
   "metadata": {},
   "outputs": [],
   "source": []
  },
  {
   "cell_type": "markdown",
   "metadata": {},
   "source": [
    "### Klassen mit zu wenig Objekten herausfiltern"
   ]
  },
  {
   "cell_type": "code",
   "execution_count": null,
   "metadata": {},
   "outputs": [],
   "source": [
    "# Find a threshold which classes to include! (small object numbers per class might be too little to include into the model --> find threshold)\n",
    "\n",
    "# Calculate value counts\n",
    "value_counts = wetter['Wettercode'].value_counts().sort_index()\n",
    "\n",
    "# Calculate total number of occurrences\n",
    "total_counts = value_counts.sum()\n",
    "\n",
    "# Define the threshold percentage (e.g., 5%)\n",
    "threshold_percentage = 0.05\n",
    "\n",
    "# Calculate the minimum number of occurrences to be included\n",
    "threshold_count = total_counts * threshold_percentage\n",
    "\n",
    "# Filter weather codes based on the threshold count\n",
    "filtered_codes = value_counts[value_counts >= threshold_count]\n",
    "\n",
    "print(\"Total occurrences per weather code:\")\n",
    "print(value_counts)\n",
    "print(f\"\\nFiltered weather codes (above threshold {threshold_percentage}):\")\n",
    "print(filtered_codes)"
   ]
  },
  {
   "cell_type": "code",
   "execution_count": null,
   "metadata": {},
   "outputs": [],
   "source": [
    "# Datensatz anpassen und rows löschen? "
   ]
  },
  {
   "cell_type": "markdown",
   "metadata": {},
   "source": [
    "## 2. Niederschlagsdaten einfügen"
   ]
  },
  {
   "cell_type": "code",
   "execution_count": null,
   "metadata": {},
   "outputs": [],
   "source": [
    "# read in weather data\n",
    "weather = pd.read_csv(\"/workspaces/bakery_sales_prediction/sourcedata/wetter.csv\")\n",
    "weather[\"Datum\"] = pd.to_datetime(weather[\"Datum\"])\n",
    "\n",
    "# Define the path to additional weather data from DWD\n",
    "file_path = \"/workspaces/bakery_sales_prediction/sourcedata/produkt_klima_tag_19740101_20231231_02564.txt\"\n",
    "\n",
    "# Read the file into a DataFrame, parse dates, and treat -999 as NaN\n",
    "prec = pd.read_csv(file_path, sep=';', na_values='-999', parse_dates=['MESS_DATUM'])\n",
    "\n",
    "# Rename the MESS_DATUM column to Datum\n",
    "prec.rename(columns={'MESS_DATUM': 'Datum'}, inplace=True)\n",
    "prec.rename(columns={\" RSK\": \"Niederschlag\"}, inplace = True)\n",
    "# prec.rename(columns={\"  FM\": \"Windgeschwindigkeit_m-per-s\"}, inplace = True)\n",
    "\n",
    "# Select relevant columns\n",
    "prec = prec[[\"Datum\", \"Niederschlag\"]]\n",
    "\n",
    "# Display the first few rows of the DataFrame\n",
    "print(prec.head())\n",
    "\n",
    "# Merge both datasets on the Datum column\n",
    "weather_data = pd.merge(weather, prec, on='Datum', how='inner')\n",
    "\n",
    "# Display the merged DataFrame\n",
    "print(weather_data)"
   ]
  },
  {
   "cell_type": "code",
   "execution_count": null,
   "metadata": {},
   "outputs": [],
   "source": []
  },
  {
   "cell_type": "markdown",
   "metadata": {},
   "source": [
    "## 3. Wochentage"
   ]
  },
  {
   "cell_type": "code",
   "execution_count": null,
   "metadata": {},
   "outputs": [],
   "source": [
    "# extract date features\n",
    "weather_data['year'] = weather_data['Datum'].dt.year\n",
    "weather_data['month'] = weather_data['Datum'].dt.month\n",
    "weather_data['week'] = weather_data['Datum'].dt.isocalendar().week\n",
    "weather_data['day_of_week'] = weather_data['Datum'].dt.dayofweek\n",
    "weather_data['day_of_month'] = weather_data['Datum'].dt.day\n",
    "print(weather_data.head())\n"
   ]
  },
  {
   "cell_type": "code",
   "execution_count": null,
   "metadata": {},
   "outputs": [],
   "source": [
    "# define the season\n",
    "def get_season(month):\n",
    "\t    if month in [12, 1, 2]:\n",
    "\t        return 'winter'\n",
    "\t    elif month in [3, 4, 5]:\n",
    "\t        return 'spring'\n",
    "\t    elif month in [6, 7, 8]:\n",
    "\t        return 'summer'\n",
    "\t    else:\n",
    "\t        return 'autumn'\n",
    "\t\n",
    "weather_data['season'] = weather_data['month'].apply(get_season)\n",
    "\n",
    "# Create binary features for seasons\n",
    "# probably to generic for predictions?\n",
    "weather_data['winter'] = (weather_data['season'] == 'winter').astype(int)\n",
    "weather_data['spring'] = (weather_data['season'] == 'spring').astype(int)\n",
    "weather_data['summer'] = (weather_data['season'] == 'summer').astype(int)\n",
    "weather_data['autumn'] = (weather_data['season'] == 'autumn').astype(int)\n",
    "\n",
    "print(weather_data.head())\n"
   ]
  },
  {
   "cell_type": "markdown",
   "metadata": {},
   "source": [
    "## 4. Saisonale Abweichungen:"
   ]
  },
  {
   "cell_type": "code",
   "execution_count": null,
   "metadata": {},
   "outputs": [],
   "source": [
    "# check what exactly this means and does! (Suggestion by ChatGPT)\n",
    "# Create rolling averages for temperature, precipitation and and wind speed\n",
    "# weather_data['temp_7d_avg'] = weather_data['Temperatur'].rolling(window=7).mean()\n",
    "# weather_data['wind_7d_avg'] = weather_data['Windgeschwindigkeit'].rolling(window=7).mean()\n",
    "# weather_data['prec_7d_avg'] = weather_data['Niederschlag'].rolling(window=7).mean()\n",
    "\n",
    "# Create lag features\n",
    "# weather_data['temp_lag_1'] = weather_data['Temperatur'].shift(1)\n",
    "# weather_data['wind_lag_1'] = weather_data['Windgeschwindigkeit'].shift(1)\n",
    "# weather_data['prec_lag_1'] = weather_data['Niederschlag'].shift(1)\n",
    "\n",
    "# Fill NA values created by rolling and lag features\n",
    "# weather_data.fillna(method='bfill', inplace=True)\n",
    "\n",
    "# Normalize the weather features\n",
    "# from sklearn.preprocessing import StandardScaler\n",
    "\n",
    "# weather_features = ['Temperatur', 'Windgeschwindigkeit', 'Niederschlag', 'temp_7d_avg', 'wind_7d_avg', 'temp_lag_1', 'wind_lag_1', 'prec_7d_avg', 'prec_lag_1']\n",
    "# scaler = StandardScaler()\n",
    "# weather_data[weather_features] = scaler.fit_transform(weather_data[weather_features])\n",
    "# print(weather_data.head())\n"
   ]
  },
  {
   "cell_type": "code",
   "execution_count": null,
   "metadata": {},
   "outputs": [],
   "source": [
    "# Open ToDos:\n",
    "# Create categories for temperature depending on season\n",
    "# or calculate the deviation from monthly temperature\n",
    "# or define warm / cold day depending on the season (e.g. in winter 10°C is a warm day, in summer that would be a cold day)"
   ]
  },
  {
   "cell_type": "code",
   "execution_count": null,
   "metadata": {},
   "outputs": [],
   "source": [
    "# Define thresholds for extreme weather conditions\n",
    "VERY_HOT_THRESHOLD = 25  # Example: temperature > 25 degrees Celsius\n",
    "VERY_COLD_THRESHOLD = 0  # Example: temperature < 0 degrees Celsius\n",
    "VERY_RAINY_THRESHOLD = 10 # Example: precipitation > 10 mm\n",
    "HIGH_WIND_THRESHOLD = 15  # Example: wind speed > 15 m/s\n",
    "SUNNY_DAY_THRESHOLD = 2  # Example: cloudiness <= 2 - how is the parameter defined?\n",
    "\n",
    "# Create binary features for extreme weather conditions\n",
    "weather_data['very_hot'] = (weather_data['Temperatur'] > VERY_HOT_THRESHOLD).astype(int)\n",
    "weather_data['very_cold'] = (weather_data['Temperatur'] < VERY_COLD_THRESHOLD).astype(int)\n",
    "weather_data['very_rainy'] =  (weather_data['Niederschlag'] > VERY_RAINY_THRESHOLD).astype(int)\n",
    "weather_data['high_wind'] = (weather_data['Windgeschwindigkeit'] > HIGH_WIND_THRESHOLD).astype(int)\n",
    "weather_data['sunny_days'] = (weather_data['Bewoelkung'] <= SUNNY_DAY_THRESHOLD).astype(int)\n",
    "\n",
    "# Display the first few rows to check all features\n",
    "print(weather_data)\n"
   ]
  },
  {
   "cell_type": "code",
   "execution_count": null,
   "metadata": {},
   "outputs": [],
   "source": [
    "# Calculate \"feels like\" temperature\n",
    "weather_data[\"Windgeschwindigkeit_km_h\"] = weather_data[\"Windgeschwindigkeit\"] * 3.6\n",
    "weather_data[\"feels_like_temperature\"] = 13.12 + 0.6215 * weather_data[\"Temperatur\"] - 11.37 * weather_data[\"Windgeschwindigkeit_km_h\"]**0.16 + 0.3965*weather_data[\"Temperatur\"]*weather_data[\"Windgeschwindigkeit_km_h\"]**0.16\n",
    "print(weather_data.head())\n",
    "\n",
    "# export file again\n",
    "# weather_data.to_csv(\"Files/weather_data.csv\", index = False)\n"
   ]
  },
  {
   "cell_type": "markdown",
   "metadata": {},
   "source": [
    "## Ergebnis speichern:"
   ]
  },
  {
   "cell_type": "code",
   "execution_count": null,
   "metadata": {},
   "outputs": [],
   "source": [
    " # Save the updated data to new CSV files\n",
    "    data.to_csv('../sourcedata/cleaned_data/6_weather_parameters.csv', sep=',', index=False)"
   ]
  }
 ],
 "metadata": {
  "language_info": {
   "name": "python"
  }
 },
 "nbformat": 4,
 "nbformat_minor": 2
}
