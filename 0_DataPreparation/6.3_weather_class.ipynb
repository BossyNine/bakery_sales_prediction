{
 "cells": [
  {
   "cell_type": "code",
   "execution_count": 3,
   "metadata": {},
   "outputs": [],
   "source": [
    "# import packages\n",
    "import pandas as pd\n",
    "import numpy as np\n",
    "import seaborn as sns\n",
    "import matplotlib.pyplot as plt\n",
    "import csv\n",
    "from sklearn.impute import KNNImputer"
   ]
  },
  {
   "cell_type": "code",
   "execution_count": 7,
   "metadata": {},
   "outputs": [
    {
     "name": "stdout",
     "output_type": "stream",
     "text": [
      "        Datum  Bewoelkung  Temperatur  Windgeschwindigkeit  Wettercode  \\\n",
      "0  2013-07-01         6.0     17.8375                 15.0        20.0   \n",
      "1  2013-07-01         6.0     17.8375                 15.0        20.0   \n",
      "2  2013-07-01         6.0     17.8375                 15.0        20.0   \n",
      "3  2013-07-01         6.0     17.8375                 15.0        20.0   \n",
      "4  2013-07-01         6.0     17.8375                 15.0        20.0   \n",
      "\n",
      "   KielerWoche  Warengruppe      Umsatz  Feiertage  Ferientage  Niederschlag  \\\n",
      "0          0.0          1.0  148.828353        0.0         1.0           0.3   \n",
      "1          0.0          2.0  535.856285        0.0         1.0           0.3   \n",
      "2          0.0          3.0  201.198426        0.0         1.0           0.3   \n",
      "3          0.0          4.0   65.890169        0.0         1.0           0.3   \n",
      "4          0.0          5.0  317.475875        0.0         1.0           0.3   \n",
      "\n",
      "   imp_mask_Bewoelkung  imp_mask_Temperatur  imp_mask_Windgeschwindigkeit  \\\n",
      "0                    0                    0                             0   \n",
      "1                    0                    0                             0   \n",
      "2                    0                    0                             0   \n",
      "3                    0                    0                             0   \n",
      "4                    0                    0                             0   \n",
      "\n",
      "   imp_mask_Niederschlag  imp_mask_Wettercode  \n",
      "0                      0                    0  \n",
      "1                      0                    0  \n",
      "2                      0                    0  \n",
      "3                      0                    0  \n",
      "4                      0                    0   \n",
      "\n",
      "<class 'pandas.core.frame.DataFrame'>\n",
      "RangeIndex: 9334 entries, 0 to 9333\n",
      "Data columns (total 16 columns):\n",
      " #   Column                        Non-Null Count  Dtype  \n",
      "---  ------                        --------------  -----  \n",
      " 0   Datum                         9334 non-null   object \n",
      " 1   Bewoelkung                    9334 non-null   float64\n",
      " 2   Temperatur                    9334 non-null   float64\n",
      " 3   Windgeschwindigkeit           9334 non-null   float64\n",
      " 4   Wettercode                    9334 non-null   float64\n",
      " 5   KielerWoche                   9334 non-null   float64\n",
      " 6   Warengruppe                   9334 non-null   float64\n",
      " 7   Umsatz                        9334 non-null   float64\n",
      " 8   Feiertage                     9334 non-null   float64\n",
      " 9   Ferientage                    9334 non-null   float64\n",
      " 10  Niederschlag                  9334 non-null   float64\n",
      " 11  imp_mask_Bewoelkung           9334 non-null   int64  \n",
      " 12  imp_mask_Temperatur           9334 non-null   int64  \n",
      " 13  imp_mask_Windgeschwindigkeit  9334 non-null   int64  \n",
      " 14  imp_mask_Niederschlag         9334 non-null   int64  \n",
      " 15  imp_mask_Wettercode           9334 non-null   int64  \n",
      "dtypes: float64(10), int64(5), object(1)\n",
      "memory usage: 1.1+ MB\n",
      "None\n"
     ]
    }
   ],
   "source": [
    "# load data: is \"6.2_missing_value_imputation-2.csv\" the latest version?\n",
    "\n",
    "df = pd.read_csv(\"/workspaces/bakery_sales_prediction/sourcedata/cleaned_data/6.2_missing_value_imputation-2.csv\")\n",
    "df_old = pd.read_csv(\"/workspaces/bakery_sales_prediction/sourcedata/cleaned_data/6.1_weather_parameters-2.csv\")\n",
    "\n",
    "print(df.head(), \"\\n\")\n",
    "print(df.info())"
   ]
  },
  {
   "cell_type": "markdown",
   "metadata": {},
   "source": [
    "## 1. Wettercodes:"
   ]
  },
  {
   "cell_type": "markdown",
   "metadata": {},
   "source": [
    "### Wetterdcodes decodieren und in neue Klassen einteilen"
   ]
  },
  {
   "cell_type": "code",
   "execution_count": 8,
   "metadata": {},
   "outputs": [
    {
     "name": "stdout",
     "output_type": "stream",
     "text": [
      "Wettercode\n",
      "0.0      815\n",
      "3.0        5\n",
      "5.0      562\n",
      "10.0     742\n",
      "17.0       5\n",
      "20.0     244\n",
      "21.0    1013\n",
      "22.0      88\n",
      "28.0      63\n",
      "45.0      96\n",
      "49.0      48\n",
      "53.0      31\n",
      "61.0    2271\n",
      "63.0     535\n",
      "65.0     111\n",
      "68.0      12\n",
      "69.0      27\n",
      "71.0      81\n",
      "73.0      48\n",
      "75.0      25\n",
      "77.0      45\n",
      "79.0       5\n",
      "95.0     137\n",
      "Name: count, dtype: int64\n"
     ]
    }
   ],
   "source": [
    "# Print the frequency of each value of the weather codes (which ones occure?)\n",
    "value_counts = df['Wettercode'].value_counts().sort_index()\n",
    "#print(value_counts)\n",
    "\n",
    "value_counts = df_old['Wettercode'].value_counts().sort_index()\n",
    "print(value_counts)"
   ]
  },
  {
   "cell_type": "code",
   "execution_count": 7,
   "metadata": {},
   "outputs": [
    {
     "data": {
      "text/plain": [
       "'Durchgehender maeßiger und nicht gefrierender Spruehregen'"
      ]
     },
     "execution_count": 7,
     "metadata": {},
     "output_type": "execute_result"
    }
   ],
   "source": [
    "# Dictionary with weather codes and their descriptions from http://www.seewetter-kiel.de/seewetter/daten_symbole.htm\n",
    "weather_code_descriptions = {\n",
    "    0: \"Bewoelkungsentwicklung nicht beobachtet\",\n",
    "    3: \"Zunehmende Bewoelkung\",\n",
    "    5: \"Trockener Dunst\",\n",
    "    10: \"Feuchter Dunst\",\n",
    "    17: \"Gewitter mit hoerbarem Donner, aber kein Niederschlag an der Station\",\n",
    "    20: \"Spruehregen oder Schneegriesel hat aufgehoert\",\n",
    "    21: \"Regen hat aufgehoert\",\n",
    "    22: \"Schneefall hat aufgehoert\",\n",
    "    28: \"Nebel hat sich aufgeloest\",\n",
    "    45: \"Nebel, Himmel ist nicht erkennbar, Nebel unveraendert\",\n",
    "    49: \"Nebel mit Reifbildung, Himmel ist nicht erkennbar\",\n",
    "    53: \"Durchgehender maeßiger und nicht gefrierender Spruehregen\",\n",
    "    61: \"Durchgehender leichter und nicht gefrierender Regen\",\n",
    "    63: \"Durchgehender maeßiger nicht gefrierender Regen\",\n",
    "    65: \"Durchgehender starker und nicht gefrierender Regen\",\n",
    "    68: \"Leichter Schneeregen\",\n",
    "    69: \"Maeßiger oder starker Schneeregen\",\n",
    "    71: \"Durchgehender leichter Schneefall\",\n",
    "    73: \"Durchgehender maeßiger Schneefall\",\n",
    "    75: \"Durchgehender starker Schneefall\",\n",
    "    77: \"Schneegrieseln mit oder ohne Nebel\",\n",
    "    79: \"Eiskoerner (gefrorene Regentropfen)\",\n",
    "    95: \"Leichtes oder maeßiges Gewitter mit Regen oder Schnee\"\n",
    "}\n",
    "\n",
    "# Function to get the description of a weather code from list above\n",
    "def get_weather_description(code):\n",
    "    return weather_code_descriptions.get(code, \"Description not available\")\n",
    "\n",
    "get_weather_description(53)"
   ]
  },
  {
   "cell_type": "code",
   "execution_count": 8,
   "metadata": {},
   "outputs": [],
   "source": [
    "# new classes for weathercodes in a dictionary:\n",
    "new_weather_code_descriptions = {\n",
    "    0 : \"nicht_beobachtet\",\n",
    "    1 : \"Wolken\",\n",
    "    2 : \"Dunst_oder_Nebel\",\n",
    "    3 : \"sich_ankuendigender_Regen\",\n",
    "    4 : \"Gewitter\",\n",
    "    5 : \"Boeen_und_Sturm\",\n",
    "    6 : \"Niederschlag_nass_leicht\", # Regen # leicht # inkl. 'Niederschlag hat aufgehört', weil es ja nicht den ganzen Tag lang 'aufgehört' haben kann, sondern dann vermutlich vorher geregnet hat\n",
    "    7 : \"Niederschlag_nass_stark\", # mäßiger oder starker Regen\n",
    "    8 : \"Niederschlag_trocken\", # Schnee; leichtes oder mäßiges Schneetreiben\n",
    "    9 : \"Schneesturm_Hagel\", # starkes Schneefegen\n",
    "    10 : \"Sandsturm\"\n",
    "}\n",
    "\n",
    "# Define lists of codes for each weather class\n",
    "nicht_beobachtet =  [0] # 0\n",
    "Wolken = [1, 2, 3] # 1\n",
    "Dunst_oder_Nebel = [4, 5, 6, 7, 8, 9, 10, 11, 12, 28, 40, 41, 42, 43, 44, 45, 46, 47, 48, 49] # 2\n",
    "sich_ankuendigender_Regen = [14, 15, 16] # 3\n",
    "Gewitter = [13, 17, 29, 91, 92, 93, 94, 95, 96, 97, 98, 99] # 4\n",
    "Boeen_und_Sturm = [18, 19] # 5\n",
    "Niederschlag_nass_leicht = [20, 21, 23, 24, 25, 27, 50, 51, 56, 58, 60, 61, 66, 68, 80, 83, 87] # 6\n",
    "Niederschlag_nass_stark = [52, 53, 54, 55, 57, 59, 62, 63, 64, 65, 67, 69, 81, 82, 84, 88] # 7\n",
    "Niederschlag_trocken = [22, 26, 36, 38, 70, 71, 72, 73, 74, 75, 77, 78, 85, 86] # 8\n",
    "Schneesturm_Hagel = [37, 39, 76, 79, 89, 90] # 9\n",
    "Sandsturm = [30, 31, 32, 33, 34, 35] # 10\n"
   ]
  },
  {
   "cell_type": "code",
   "execution_count": 9,
   "metadata": {},
   "outputs": [
    {
     "name": "stdout",
     "output_type": "stream",
     "text": [
      "Weather Code Mapping: {0: 0, 1: 1, 2: 1, 3: 1, 4: 2, 5: 2, 6: 2, 7: 2, 8: 2, 9: 2, 10: 2, 11: 2, 12: 2, 28: 2, 40: 2, 41: 2, 42: 2, 43: 2, 44: 2, 45: 2, 46: 2, 47: 2, 48: 2, 49: 2, 14: 3, 15: 3, 16: 3, 13: 4, 17: 4, 29: 4, 91: 4, 92: 4, 93: 4, 94: 4, 95: 4, 96: 4, 97: 4, 98: 4, 99: 4, 18: 5, 19: 5, 20: 6, 21: 6, 23: 6, 24: 6, 25: 6, 27: 6, 50: 6, 51: 6, 56: 6, 58: 6, 60: 6, 61: 6, 66: 6, 68: 6, 80: 6, 83: 6, 87: 6, 52: 7, 53: 7, 54: 7, 55: 7, 57: 7, 59: 7, 62: 7, 63: 7, 64: 7, 65: 7, 67: 7, 69: 7, 81: 7, 82: 7, 84: 7, 88: 7, 22: 8, 26: 8, 36: 8, 38: 8, 70: 8, 71: 8, 72: 8, 73: 8, 74: 8, 75: 8, 77: 8, 78: 8, 85: 8, 86: 8, 37: 9, 39: 9, 76: 9, 79: 9, 89: 9, 90: 9, 30: 10, 31: 10, 32: 10, 33: 10, 34: 10, 35: 10}\n",
      "No rows with missing 'Wetterklasse'.\n",
      "DataFrame Columns: Index(['Datum', 'Bewoelkung', 'Temperatur', 'Windgeschwindigkeit',\n",
      "       'Wettercode', 'KielerWoche', 'Warengruppe', 'Umsatz', 'Feiertage',\n",
      "       'Ferientage', 'Wetterklasse'],\n",
      "      dtype='object')\n",
      "           Datum  Bewoelkung  Temperatur  Windgeschwindigkeit  Wettercode  \\\n",
      "0     2013-07-01         6.0     17.8375                 15.0        20.0   \n",
      "1     2013-07-01         6.0     17.8375                 15.0        20.0   \n",
      "2     2013-07-01         6.0     17.8375                 15.0        20.0   \n",
      "3     2013-07-01         6.0     17.8375                 15.0        20.0   \n",
      "4     2013-07-01         6.0     17.8375                 15.0        20.0   \n",
      "...          ...         ...         ...                  ...         ...   \n",
      "7004  2018-07-30         6.0     27.7875                 10.0        21.0   \n",
      "7005  2018-07-30         6.0     27.7875                 10.0        21.0   \n",
      "7006  2018-07-30         6.0     27.7875                 10.0        21.0   \n",
      "7007  2018-07-30         6.0     27.7875                 10.0        21.0   \n",
      "7008  2018-07-30         6.0     27.7875                 10.0        21.0   \n",
      "\n",
      "      KielerWoche  Warengruppe      Umsatz  Feiertage  Ferientage  \\\n",
      "0             0.0          1.0  148.828353        0.0         1.0   \n",
      "1             0.0          2.0  535.856285        0.0         1.0   \n",
      "2             0.0          3.0  201.198426        0.0         1.0   \n",
      "3             0.0          4.0   65.890169        0.0         1.0   \n",
      "4             0.0          5.0  317.475875        0.0         1.0   \n",
      "...           ...          ...         ...        ...         ...   \n",
      "7004          0.0          1.0  148.541340        0.0         1.0   \n",
      "7005          0.0          2.0  616.358562        0.0         1.0   \n",
      "7006          0.0          3.0  348.770346        0.0         1.0   \n",
      "7007          0.0          4.0   71.822977        0.0         1.0   \n",
      "7008          0.0          5.0  324.965348        0.0         1.0   \n",
      "\n",
      "      Wetterklasse  \n",
      "0                6  \n",
      "1                6  \n",
      "2                6  \n",
      "3                6  \n",
      "4                6  \n",
      "...            ...  \n",
      "7004             6  \n",
      "7005             6  \n",
      "7006             6  \n",
      "7007             6  \n",
      "7008             6  \n",
      "\n",
      "[7009 rows x 11 columns]\n"
     ]
    }
   ],
   "source": [
    "# Create a combined dictionary for mapping original codes to new numeric codes\n",
    "weather_code_mapping = {}\n",
    "\n",
    "# Combine the lists and dictionary\n",
    "weather_classes = {\n",
    "    \"nicht_beobachtet\" : nicht_beobachtet,\n",
    "    \"Wolken\" : Wolken,\n",
    "    \"Dunst_oder_Nebel\" : Dunst_oder_Nebel,\n",
    "    \"sich_ankuendigender_Regen\" : sich_ankuendigender_Regen,\n",
    "    \"Gewitter\" : Gewitter,\n",
    "    \"Boeen_und_Sturm\" : Boeen_und_Sturm,\n",
    "    \"Niederschlag_nass_leicht\" : Niederschlag_nass_leicht,\n",
    "    \"Niederschlag_nass_stark\" : Niederschlag_nass_stark,\n",
    "    \"Niederschlag_trocken\" : Niederschlag_trocken,\n",
    "    \"Schneesturm_Hagel\" : Schneesturm_Hagel,\n",
    "    \"Sandsturm\" : Sandsturm\n",
    "}\n",
    "\n",
    "# Iterate over the new_weather_code_descriptions to build the mapping dictionary\n",
    "for new_code, description in new_weather_code_descriptions.items():\n",
    "    if description in weather_classes:\n",
    "        for code in weather_classes[description]:\n",
    "            weather_code_mapping[code] = new_code\n",
    "\n",
    "# Debugging: Print the mapping dictionary to ensure it is correct\n",
    "print(\"Weather Code Mapping:\", weather_code_mapping)\n",
    "\n",
    "# Map the weather codes to the new numeric codes\n",
    "df_wetter['Wetterklasse'] = df_wetter['Wettercode'].map(weather_code_mapping)\n",
    "\n",
    "# Check for rows where 'Wetterklasse' is NaN\n",
    "missing_wetterklasse = df_wetter[df_wetter['Wetterklasse'].isna()]\n",
    "\n",
    "# If there are any missing 'Wetterklasse', print those rows\n",
    "if not missing_wetterklasse.empty:\n",
    "    print(\"Rows with missing 'Wetterklasse':\")\n",
    "    print(missing_wetterklasse)\n",
    "else:\n",
    "    print(\"No rows with missing 'Wetterklasse'.\")\n",
    "\n",
    "# Replace NaN values with -9999 for codes not in the mapping\n",
    "#df_wetter['Wetterklasse'] = df_wetter['Wetterklasse'].fillna(-9999)\n",
    "\n",
    "# If the new column is still not appearing, check the DataFrame's columns\n",
    "print(\"DataFrame Columns:\", df_wetter.columns)\n",
    "# Print the updated DataFrame\n",
    "print(df_wetter)"
   ]
  },
  {
   "cell_type": "code",
   "execution_count": 10,
   "metadata": {},
   "outputs": [
    {
     "name": "stdout",
     "output_type": "stream",
     "text": [
      "describe: \n",
      "         Bewoelkung   Temperatur  Windgeschwindigkeit   Wettercode  \\\n",
      "count  7009.000000  7009.000000          7009.000000  7009.000000   \n",
      "mean      5.307319    10.726434            11.174775    36.900128   \n",
      "std       2.394701     6.843793             4.332547    27.095884   \n",
      "min       0.000000    -8.475000             3.000000     0.000000   \n",
      "25%       4.000000     5.500000             8.000000    10.000000   \n",
      "50%       6.000000    10.000000            10.000000    28.000000   \n",
      "75%       7.000000    16.387500            14.000000    61.000000   \n",
      "max       8.000000    28.875000            35.000000    95.000000   \n",
      "\n",
      "       KielerWoche  Warengruppe       Umsatz    Feiertage   Ferientage  \\\n",
      "count  7009.000000  7009.000000  7009.000000  7009.000000  7009.000000   \n",
      "mean      0.023541     3.100014   200.362704     0.019404     0.152233   \n",
      "std       0.151625     1.497091   140.506394     0.137949     0.359272   \n",
      "min       0.000000     1.000000     7.051201     0.000000     0.000000   \n",
      "25%       0.000000     2.000000    94.681895     0.000000     0.000000   \n",
      "50%       0.000000     3.000000   155.268163     0.000000     0.000000   \n",
      "75%       0.000000     4.000000   271.400924     0.000000     0.000000   \n",
      "max       1.000000     6.000000  1879.461831     1.000000     1.000000   \n",
      "\n",
      "       Wetterklasse  \n",
      "count   7009.000000  \n",
      "mean       4.580397  \n",
      "std        2.447536  \n",
      "min        0.000000  \n",
      "25%        2.000000  \n",
      "50%        6.000000  \n",
      "75%        6.000000  \n",
      "max        9.000000   \n",
      "\n",
      "NaN: \n",
      " Datum  Bewoelkung  Temperatur  Windgeschwindigkeit  Wettercode  KielerWoche  Warengruppe  Umsatz  Feiertage  Ferientage  Wetterklasse\n",
      "False  False       False       False                False       False        False        False   False      False       False           7009\n",
      "Name: count, dtype: int64 \n",
      "\n"
     ]
    }
   ],
   "source": [
    "print(\"describe: \\n\", df_wetter.describe(), \"\\n\")\n",
    "\n",
    "print(\"NaN: \\n\", df_wetter.isnull().value_counts(), \"\\n\") # how to count the isnull values?"
   ]
  },
  {
   "cell_type": "markdown",
   "metadata": {},
   "source": [
    "### Klassen mit zu wenig Objekten herausfiltern"
   ]
  },
  {
   "cell_type": "code",
   "execution_count": 11,
   "metadata": {},
   "outputs": [
    {
     "name": "stdout",
     "output_type": "stream",
     "text": [
      "Total occurrences per weather code:\n",
      "Wetterklasse\n",
      "0     815\n",
      "1       5\n",
      "2    1511\n",
      "4     142\n",
      "6    3540\n",
      "7     704\n",
      "8     287\n",
      "9       5\n",
      "Name: count, dtype: int64\n",
      "\n",
      "Filtered weather codes (above threshold 0.01):\n",
      "Wetterklasse\n",
      "0     815\n",
      "2    1511\n",
      "4     142\n",
      "6    3540\n",
      "7     704\n",
      "8     287\n",
      "Name: count, dtype: int64\n",
      "\n",
      "Reminder: Weather Code Mapping:\n",
      "0: nicht_beobachtet\n",
      "1: Wolken\n",
      "2: Dunst_oder_Nebel\n",
      "3: sich_ankuendigender_Regen\n",
      "4: Gewitter\n",
      "5: Boeen_und_Sturm\n",
      "6: Niederschlag_nass_leicht\n",
      "7: Niederschlag_nass_stark\n",
      "8: Niederschlag_trocken\n",
      "9: Schneesturm_Hagel\n",
      "10: Sandsturm\n"
     ]
    }
   ],
   "source": [
    "# Find a frequency threshold for frequent classes (which ones to include?) to reduce noise (small object numbers per class might be too little to include into the model --> find threshold)\n",
    "\n",
    "# Calculate value counts\n",
    "value_counts = df_wetter['Wetterklasse'].value_counts().sort_index()\n",
    "\n",
    "# Calculate total number of occurrences\n",
    "total_counts = value_counts.sum()\n",
    "\n",
    "# Define the threshold percentage (e.g., 0.5, 1, 2, 5%)\n",
    "threshold_percentage = 0.01\n",
    "\n",
    "# Calculate the minimum number of occurrences to be included\n",
    "threshold_count = total_counts * threshold_percentage\n",
    "\n",
    "# Filter weather codes based on the threshold count and only include the 'valid'\n",
    "frequent_classes = value_counts[value_counts >= threshold_count]\n",
    "\n",
    "print(\"Total occurrences per weather code:\")\n",
    "print(value_counts)\n",
    "print(f\"\\nFiltered weather codes (above threshold {threshold_percentage}):\")\n",
    "print(frequent_classes)\n",
    "# Pretty print the mapping dictionary\n",
    "print(\"\\nReminder: Weather Code Mapping:\")\n",
    "for key, value in new_weather_code_descriptions.items():\n",
    "    print(f\"{key}: {value}\")\n"
   ]
  },
  {
   "cell_type": "markdown",
   "metadata": {},
   "source": [
    "## Ergebnis speichern:"
   ]
  },
  {
   "cell_type": "code",
   "execution_count": 24,
   "metadata": {},
   "outputs": [],
   "source": [
    " # Save the updated data to new CSV files\n",
    "df_wetter.to_csv('../sourcedata/cleaned_data/6.3_weather_class-2.csv', sep=',', index=False)"
   ]
  },
  {
   "cell_type": "code",
   "execution_count": null,
   "metadata": {},
   "outputs": [],
   "source": []
  }
 ],
 "metadata": {
  "kernelspec": {
   "display_name": "Python 3",
   "language": "python",
   "name": "python3"
  },
  "language_info": {
   "codemirror_mode": {
    "name": "ipython",
    "version": 3
   },
   "file_extension": ".py",
   "mimetype": "text/x-python",
   "name": "python",
   "nbconvert_exporter": "python",
   "pygments_lexer": "ipython3",
   "version": "3.10.13"
  }
 },
 "nbformat": 4,
 "nbformat_minor": 2
}
